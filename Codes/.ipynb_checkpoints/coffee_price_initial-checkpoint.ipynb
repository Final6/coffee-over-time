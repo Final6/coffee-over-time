{
 "cells": [
  {
   "cell_type": "markdown",
   "metadata": {},
   "source": [
    "# Coffee Daily Price Per Pound"
   ]
  },
  {
   "cell_type": "markdown",
   "metadata": {},
   "source": [
    "## Libraries and Packages\n",
    "\n",
    "[Extract, Transform, Load (ETL) - Pandas](https://pandas.pydata.org/)\n",
    "\n",
    "[Exploratory Analysis - Seaborn](https://seaborn.pydata.org/)\n",
    "\n",
    "[Exploratory Analysis - Matplotlib](https://matplotlib.org/)\n",
    "\n",
    "[Data Evaluation - Numpy](https://numpy.org/)\n",
    "\n",
    "[Model and evaluate - Statsmodels](https://www.statsmodels.org/stable/index.html)\n",
    "\n",
    "[Model and evaluate - Scikit-Learn](https://scikit-learn.org/stable/)"
   ]
  },
  {
   "cell_type": "code",
   "execution_count": null,
   "metadata": {},
   "outputs": [],
   "source": [
    "# Extract, Transform, Load (ETL)\n",
    "import pandas as pd\n",
    "\n",
    "# Data Evaluation\n",
    "import numpy as np\n",
    "\n",
    "# Exploratory Analysis\n",
    "import matplotlib.pyplot as plt\n",
    "from matplotlib.pylab import rcParams\n",
    "rcParams['figure.figsize'] = (10,5)\n",
    "import seaborn as sns\n",
    "sns.set_style('darkgrid')\n",
    "\n",
    "\n",
    "# Model and Evaluate\n",
    "from statsmodels.graphics.tsaplots import plot_acf,plot_pacf\n",
    "from statsmodels.tsa.seasonal import seasonal_decompose\n",
    "from statsmodels.tsa.stattools import adfuller\n",
    "from statsmodels.tsa.statespace.sarimax import SARIMAX\n",
    "from sklearn.metrics import mean_absolute_percentage_error,mean_absolute_error\n",
    "\n",
    "# -- statsmodels.tsa - https://www.statsmodels.org/stable/tsa.html\n",
    "# -- https://scikit-learn.org/stable/modules/classes.html?highlight=metrics#module-sklearn.metrics\n",
    "\n",
    "\n",
    "import warnings\n",
    "warnings.filterwarnings('ignore')"
   ]
  },
  {
   "cell_type": "markdown",
   "metadata": {},
   "source": [
    "## Loading Dataset\n",
    "[Coffee Dataset Real Time](https://www.investing.com/commodities/us-coffee-c)"
   ]
  },
  {
   "cell_type": "code",
   "execution_count": null,
   "metadata": {},
   "outputs": [],
   "source": [
    "coffee_raw = pd.read_csv('../Data/coffee.csv')"
   ]
  },
  {
   "cell_type": "code",
   "execution_count": null,
   "metadata": {},
   "outputs": [],
   "source": [
    "coffee_raw.head()"
   ]
  },
  {
   "cell_type": "code",
   "execution_count": null,
   "metadata": {},
   "outputs": [],
   "source": [
    "# Checking NA\n",
    "coffee_raw.isna().sum()"
   ]
  },
  {
   "cell_type": "markdown",
   "metadata": {},
   "source": [
    "## Data Wrangling"
   ]
  },
  {
   "cell_type": "code",
   "execution_count": null,
   "metadata": {},
   "outputs": [],
   "source": [
    "coffee_raw.Date = pd.to_datetime(coffee_raw.Date, yearfirst=True)\n",
    "coffee_raw.set_index('Date', inplace = True)\n",
    "\n",
    "# https://pandas.pydata.org/docs/reference/api/pandas.DataFrame.asfreq.html\n",
    "# b makes referance to Business Days \n",
    "# https://pandas.pydata.org/pandas-docs/stable/user_guide/timeseries.html#offset-aliases\n",
    "coffee = coffee_raw.asfreq('b', 'ffill')"
   ]
  },
  {
   "cell_type": "markdown",
   "metadata": {},
   "source": [
    "## Exploratory Analysis"
   ]
  },
  {
   "cell_type": "code",
   "execution_count": null,
   "metadata": {},
   "outputs": [],
   "source": [
    "# Graphing\n",
    "\n",
    "fig,axes = plt.subplots(2,2,figsize=[20,10])\n",
    "fig.suptitle('Coffee Price',size=24)\n",
    "\n",
    "## Resampling to Daily freq (Original Data)\n",
    "axes[0,0].plot(coffee.Close)\n",
    "axes[0,0].set_title(\"Daily\",size=16)\n",
    "\n",
    "## Resampling to Monthly freq \n",
    "axes[0,1].plot(coffee.Close.resample('M').mean())\n",
    "axes[0,1].set_title(\"Monthly\",size=16)\n",
    "\n",
    "## Resmapling to Quarterly freq \n",
    "axes[1,0].plot(coffee.Close.resample('Q').mean())\n",
    "axes[1,0].set_title('Quarterly',size=16)\n",
    "\n",
    "## Resampling to Annualy freq\n",
    "axes[1,1].plot(coffee.Close.resample('A').mean())\n",
    "axes[1,1].set_title('Annualy',size=16)\n",
    "\n",
    "plt.tight_layout()\n",
    "plt.show()"
   ]
  },
  {
   "cell_type": "markdown",
   "metadata": {},
   "source": [
    "### Using Statsmodels to analyse trending and seasonal prices\n",
    "[statsmodels.seasonal_decompose](https://www.statsmodels.org/dev/generated/statsmodels.tsa.seasonal.seasonal_decompose.html)"
   ]
  },
  {
   "cell_type": "code",
   "execution_count": null,
   "metadata": {},
   "outputs": [],
   "source": [
    "data_close_price = coffee.Close.resample('Q').mean()"
   ]
  },
  {
   "cell_type": "code",
   "execution_count": null,
   "metadata": {},
   "outputs": [],
   "source": [
    "decompose_result = seasonal_decompose(data_close_price, model = 'additive')\n",
    "\n",
    "## Systematic Components \n",
    "trend = decompose_result.trend\n",
    "seasonal = decompose_result.seasonal\n",
    "\n",
    "## Non-Systematic Components\n",
    "residual = decompose_result.resid\n",
    "decompose_result.plot();"
   ]
  },
  {
   "cell_type": "markdown",
   "metadata": {},
   "source": [
    "## Stationarity\n",
    "\n",
    "[Reference](https://www.indeed.com/career-advice/career-development/what-is-rolling-average)"
   ]
  },
  {
   "cell_type": "code",
   "execution_count": null,
   "metadata": {},
   "outputs": [],
   "source": [
    "def plot_rolling_stats(series, window=1):\n",
    "    ## Calculating the Rolling Mean and Rolling Standard Deviation\n",
    "    rol_mean = series.rolling(window).mean()\n",
    "    rol_std  = series.rolling(window).std()\n",
    "    \n",
    "    ## ploting the results along side the original data\n",
    "    fig = plt.figure(figsize=(10,5))\n",
    "    orig = plt.plot(series,color='blue',label='Original')\n",
    "    mean = plt.plot(rol_mean,color='red',label='Rolling mean')\n",
    "    std  = plt.plot(rol_std,color='black',label='Rolling std')\n",
    "\n",
    "    \n",
    "    plt.title('Rolling Mean/Standard Deviation',size=20)\n",
    "    plt.legend(loc='best')\n",
    "    plt.show(block=False)"
   ]
  },
  {
   "cell_type": "code",
   "execution_count": null,
   "metadata": {},
   "outputs": [],
   "source": [
    "def stationarity_check(series):\n",
    "    print('Results of Dickey Fuller Test:')\n",
    "    coffee_test = adfuller(series, autolag='AIC') \n",
    "\n",
    "    coffee_output = pd.Series(coffee_test[0:4], index=['Test Statistic','p-value',\n",
    "                                             '#Lags Used','Number of Observations Used'])\n",
    "    for key,value in coffee_test[4].items():\n",
    "        coffee_output['Critical Value (%s)'%key] = value\n",
    "        \n",
    "    print(coffee_output)"
   ]
  },
  {
   "cell_type": "code",
   "execution_count": null,
   "metadata": {},
   "outputs": [],
   "source": [
    "## Original Data\n",
    "plot_rolling_stats(data_close_price,4)\n",
    "stationarity_check(data_close_price)"
   ]
  },
  {
   "cell_type": "code",
   "execution_count": null,
   "metadata": {},
   "outputs": [],
   "source": [
    "## Regular Differentiation\n",
    "plot_rolling_stats(data_close_price.diff()[1:],4)\n",
    "stationarity_check(data_close_price.diff()[1:])"
   ]
  },
  {
   "cell_type": "markdown",
   "metadata": {},
   "source": [
    "## Autocorrelation and Partial Autocorrelation"
   ]
  },
  {
   "cell_type": "code",
   "execution_count": null,
   "metadata": {},
   "outputs": [],
   "source": [
    "fig = plt.figure(figsize=(20,5))\n",
    "ax_1 = fig.add_subplot(121)\n",
    "plot_pacf(data_close_price,lags=12,zero=False,ax=ax_1)\n",
    "\n",
    "ax_2 = fig.add_subplot(122)\n",
    "plot_acf(data_close_price,lags=12,zero=False,ax=ax_2);"
   ]
  },
  {
   "cell_type": "markdown",
   "metadata": {},
   "source": [
    "## Time Series Modeling"
   ]
  },
  {
   "cell_type": "code",
   "execution_count": null,
   "metadata": {},
   "outputs": [],
   "source": [
    "size = 0.8 ## train size\n",
    "train, test = data_close_price.iloc[:int(size*len(data_close_price))], data_close_price.iloc[int(size*len(data_close_price)):]"
   ]
  },
  {
   "cell_type": "markdown",
   "metadata": {},
   "source": [
    "### SARIMAX (Seasonal Auto-Regressive Integrated Moving Average with eXogenous factors)"
   ]
  },
  {
   "cell_type": "code",
   "execution_count": null,
   "metadata": {},
   "outputs": [],
   "source": [
    "model = SARIMAX(train,order=(2,1,2),seasonal_order=(1,1,1,4)).fit(disp=-1)\n",
    "model.summary()"
   ]
  },
  {
   "cell_type": "code",
   "execution_count": null,
   "metadata": {},
   "outputs": [],
   "source": [
    "model.plot_diagnostics(figsize=(20,10))\n",
    "plt.show()"
   ]
  },
  {
   "cell_type": "markdown",
   "metadata": {},
   "source": [
    "## Predictions"
   ]
  },
  {
   "cell_type": "code",
   "execution_count": null,
   "metadata": {},
   "outputs": [],
   "source": [
    "predictions = model.get_prediction(start='2000-03-31',end='2022-06-30')\n",
    "conf = predictions.conf_int()\n",
    "test_conf = conf.loc[test.index[0]:]\n",
    "## Ploting results\n",
    "plt.plot(predictions.predicted_mean[1:],color='red',label='Predictions')\n",
    "plt.plot(train,color='blue',label='Original')\n",
    "plt.plot(test,color='green',label='Test')\n",
    "plt.fill_between(test_conf.index, test_conf.iloc[:,0], test_conf.iloc[:,1], color='gray', alpha=.2,label='95% confidence')\n",
    "plt.title('Original vs Predictions',size=20)\n",
    "plt.legend(loc='best');"
   ]
  },
  {
   "cell_type": "markdown",
   "metadata": {},
   "source": [
    "## Accuracy Metrics\n",
    "\n",
    "[scikit.metrics.mean_absolute_error](https://scikit-learn.org/stable/modules/generated/sklearn.metrics.mean_absolute_error.html)\n",
    "\n",
    "[scikit.metrics.mean_absolute_percentage_error](https://scikit-learn.org/stable/modules/generated/sklearn.metrics.mean_absolute_percentage_error.html)"
   ]
  },
  {
   "cell_type": "code",
   "execution_count": null,
   "metadata": {},
   "outputs": [],
   "source": [
    "print(f\"Mean Absolute Error: {mean_absolute_error(data_close_price[1:],predictions.predicted_mean[1:])}\")\n",
    "print(f\"Mean Absolute Percentage Error: {mean_absolute_percentage_error(data_close_price[1:],predictions.predicted_mean[1:])}\")"
   ]
  }
 ],
 "metadata": {
  "interpreter": {
   "hash": "b0fa6594d8f4cbf19f97940f81e996739fb7646882a419484c72d19e05852a7e"
  },
  "kernelspec": {
   "display_name": "Python 3 (ipykernel)",
   "language": "python",
   "name": "python3"
  },
  "language_info": {
   "codemirror_mode": {
    "name": "ipython",
    "version": 3
   },
   "file_extension": ".py",
   "mimetype": "text/x-python",
   "name": "python",
   "nbconvert_exporter": "python",
   "pygments_lexer": "ipython3",
   "version": "3.9.13"
  }
 },
 "nbformat": 4,
 "nbformat_minor": 4
}
